{
 "cells": [
  {
   "cell_type": "code",
   "execution_count": 11,
   "metadata": {},
   "outputs": [],
   "source": [
    "from IPython.display import Image"
   ]
  },
  {
   "cell_type": "markdown",
   "metadata": {},
   "source": [
    "# [문제 설명]\n",
    "### 게임개발자인 죠르디는 크레인 인형뽑기 기계를 모바일 게임으로 만들려고 합니다. 죠르디는 게임의 재미를 높이기 위해 화면 구성과 규칙을 다음과 같이 게임 로직에 반영하려고 합니다."
   ]
  },
  {
   "cell_type": "markdown",
   "metadata": {},
   "source": [
    "![title](explain1.png)\n",
    "- 게임 화면은 1 x 1 크기의 칸들로 이루어진 N x N 크기의 정사각 격자이며 위쪽에는 크레인이 있고 오른쪽에는 바구니가 있습니다. (위 그림은 5 x 5 크기의 예시입니다). 각 격자 칸에는 다양한 인형이 들어 있으며 인형이 없는 칸은 빈칸입니다. 모든 인형은 1 x 1 크기의 격자 한 칸을 차지하며 격자의 가장 아래 칸부터 차곡차곡 쌓여 있습니다. 게임 사용자는 크레인을 좌우로 움직여서 멈춘 위치에서 가장 위에 있는 인형을 집어 올릴 수 있습니다. 집어 올린 인형은 바구니에 쌓이게 되는 데, 이때 바구니의 가장 아래 칸부터 인형이 순서대로 쌓이게 됩니다. 다음 그림은 [1번, 5번, 3번] 위치에서 순서대로 인형을 집어 올려 바구니에 담은 모습입니다.\n",
    "- 출처 : https://programmers.co.kr/learn/courses/30/lessons/64061"
   ]
  },
  {
   "cell_type": "markdown",
   "metadata": {},
   "source": [
    "![title](explain2.png)\n",
    "- 만약 같은 모양의 인형 두 개가 바구니에 연속해서 쌓이게 되면 두 인형은 터뜨려지면서 바구니에서 사라지게 됩니다. 위 상태에서 이어서 [5번] 위치에서 인형을 집어 바구니에 쌓으면 같은 모양 인형 두 개가 없어집니다.\n",
    "- 출처 : https://programmers.co.kr/learn/courses/30/lessons/64061"
   ]
  },
  {
   "cell_type": "markdown",
   "metadata": {},
   "source": [
    "![title](explain3.png)\n",
    "- 크레인 작동 시 인형이 집어지지 않는 경우는 없으나 만약 인형이 없는 곳에서 크레인을 작동시키는 경우에는 아무런 일도 일어나지 않습니다. 또한 바구니는 모든 인형이 들어갈 수 있을 만큼 충분히 크다고 가정합니다. (그림에서는 화면표시 제약으로 5칸만으로 표현하였음)\n",
    "- 게임 화면의 격자의 상태가 담긴 2차원 배열 board와 인형을 집기 위해 크레인을 작동시킨 위치가 담긴 배열 moves가 매개변수로 주어질 때, 크레인을 모두 작동시킨 후 터트려져 사라진 인형의 개수를 return 하도록 solution 함수를 완성해주세요.\n",
    "\n",
    "- 출처 : https://programmers.co.kr/learn/courses/30/lessons/64061"
   ]
  },
  {
   "cell_type": "markdown",
   "metadata": {},
   "source": [
    "# [제한 사항]\n",
    "- board 배열은 2차원 배열로 크기는 5 x 5 이상 30 x 30 이하입니다.\n",
    "- board의 각 칸에는 0 이상 100 이하인 정수가 담겨있습니다. (0은 빈칸을 나타내고, 1 ~ 100의 각 숫자는 각기 다른 인형의 모양을 의미하며 같은 숫자는 같은 모양의 인형을 나타냅니다.)\n",
    "- moves 배열의 크기는 1 이상 1,000 이하입니다.\n",
    "- moves 배열 각 원소들의 값은 1 이상이며 board 배열의 가로 크기 이하인 자연수입니다."
   ]
  },
  {
   "cell_type": "markdown",
   "metadata": {},
   "source": [
    "# [입출력 예]"
   ]
  },
  {
   "cell_type": "markdown",
   "metadata": {},
   "source": [
    "![title](example.png)\n",
    "- 인형의 처음 상태는 문제에 주어진 예시와 같습니다. 크레인이 [1, 5, 3, 5, 1, 2, 1, 4] 번 위치에서 차례대로 인형을 집어서 바구니에 옮겨 담은 후, 상태는 아래 그림과 같으며 바구니에 담는 과정에서 터트려져 사라진 인형은 4개 입니다.\n",
    "\n",
    "![title](example2.png)\n",
    "- 출처 : https://programmers.co.kr/learn/courses/30/lessons/64061"
   ]
  },
  {
   "cell_type": "markdown",
   "metadata": {},
   "source": [
    "## 1. 입출력 예 구현"
   ]
  },
  {
   "cell_type": "code",
   "execution_count": 12,
   "metadata": {},
   "outputs": [
    {
     "name": "stdout",
     "output_type": "stream",
     "text": [
      "4\n"
     ]
    }
   ],
   "source": [
    "board=[[0,0,0,0,0],\n",
    "      [0,0,1,0,3],\n",
    "      [0,2,5,0,1],\n",
    "      [4,2,4,4,2],\n",
    "      [3,5,1,3,1]]\n",
    "moves=[1,5,3,5,1,2,1,4]\n",
    "board_transform=[list(x) for x in zip(*board)] # 저는 로직을 편하게 하기 위해 리스트를 전차시켰습니다.\n",
    "\n",
    "for i in range(5):\n",
    "\twhile(0 in board_transform[i]):\n",
    "\t\tboard_transform[i].remove(0) # 로직을 편하게 하기 위해 0을 제거하고 시작했습니다.\n",
    "\n",
    "def solution(board, moves):\n",
    "\tbucket = []\n",
    "\tanswer = 0\n",
    "\tcount = 0\n",
    "\tmoves_cnt=len(moves)\n",
    "\tfor l in range(moves_cnt):\n",
    "\t\tif (not board[moves[l]-1]): # 비어있다면 continue를 통해 넘어가도록 했습니다.\n",
    "\t\t\tcontinue\n",
    "\t\telse:\n",
    "\t\t\tif (board[moves[l]-1][0]!=0):\n",
    "\t\t\t\tbucket.append(board[moves[l]-1].pop(0))\n",
    "\t\t\t\tcount+=1\n",
    "\t\t\t\tif(count>=2):\n",
    "\t\t\t\t\tif (bucket[count-2]==bucket[count-1]):\n",
    "\t\t\t\t\t\tanswer+=2\n",
    "\t\t\t\t\t\tdel bucket[count-2]\n",
    "\t\t\t\t\t\tdel bucket[count-2]\n",
    "\t\t\t\t\t\tcount-=2\n",
    "\t\t\t\t\telse:\n",
    "\t\t\t\t\t\tcontinue\n",
    "\t\t\t\n",
    "\treturn answer\n",
    "\n",
    "print(solution(board_transform, moves))"
   ]
  },
  {
   "cell_type": "markdown",
   "metadata": {},
   "source": [
    "## 2. 문제 풀이"
   ]
  },
  {
   "cell_type": "code",
   "execution_count": 13,
   "metadata": {},
   "outputs": [
    {
     "name": "stdout",
     "output_type": "stream",
     "text": [
      "인형이 들어갈 박스의 크기 n을 입력하세요(n*n).15\n",
      "[[94, 16, 98, 100, 67, 82, 82, 95, 95, 20, 45, 55, 35, 34, 90], [29, 25, 71, 23, 28, 78, 84, 92, 19, 80, 58, 89, 99, 85, 66], [26, 28, 90, 18, 91, 42, 33, 96, 97, 96, 59, 40, 68, 83, 49], [74, 41, 50, 14, 46, 63, 18, 9, 89, 92, 95, 2, 34, 88, 81], [96, 30, 82, 7, 99, 22, 56, 60, 48, 79, 39, 36, 72, 52, 31], [55, 91, 72, 97, 39, 9, 83, 55, 91, 8, 77, 67, 40, 81, 44], [54, 67, 29, 84, 38, 34, 71, 57, 63, 82, 3, 4, 97, 12, 3], [0, 93, 38, 100, 52, 24, 49, 40, 27, 78, 18, 20, 62, 22, 32], [100, 95, 66, 60, 26, 53, 69, 14, 18, 59, 52, 9, 56, 18, 28], [98, 43, 63, 58, 1, 4, 13, 5, 11, 99, 36, 35, 44, 76, 13], [80, 40, 48, 19, 10, 72, 21, 39, 24, 84, 86, 62, 65, 8, 74], [67, 61, 1, 40, 76, 33, 39, 58, 43, 61, 99, 54, 35, 84, 6], [35, 6, 76, 63, 11, 5, 85, 19, 54, 54, 53, 42, 92, 95, 28], [85, 48, 51, 17, 28, 3, 75, 3, 85, 4, 100, 87, 87, 14, 28], [40, 62, 62, 76, 50, 15, 24, 44, 43, 18, 13, 67, 26, 51, 5]]\n",
      "\n",
      "[7, 11, 3, 11, 15, 12, 2, 4, 10, 2, 5, 11, 11, 7, 2, 2, 12, 9, 4, 15, 3, 6, 8, 2, 2, 15, 10, 9, 3, 7, 15, 6, 5, 10, 3, 11, 5, 9, 1, 14, 10, 11, 4, 1, 12, 7, 15, 10, 15, 7, 12, 8, 9, 15, 15, 10, 12, 13, 10, 9, 2, 3, 8, 7, 8, 9, 9, 12, 15, 6, 2, 5, 1, 1, 8, 8, 11, 9, 10, 9, 4, 12, 5, 12, 7, 5, 14, 6, 10, 1, 9, 1, 13, 8, 2, 10, 15, 5, 12, 3, 5, 14, 5, 1, 1, 2, 2, 15, 2, 3, 14, 13, 3, 6, 5, 12, 7, 9, 7, 6, 14, 12, 13, 14, 3, 13, 11, 11, 5, 9, 12, 15, 9, 2, 10, 11, 4, 2, 10, 15, 2, 6, 3, 5, 15, 4, 5, 2, 4, 12, 15, 15, 5, 8, 10, 11, 10, 6, 11, 13, 7, 7, 15, 3, 11, 15, 6, 1, 14, 2, 14, 14, 12, 5, 15, 5, 14, 14, 15, 9, 3, 11, 1, 12, 1, 15, 2, 9, 4, 4, 12, 6, 4, 10, 6, 11, 9, 12, 11, 7, 7, 2, 10, 15, 2, 14, 6, 12, 11, 13, 11, 15, 7, 1, 8, 11, 9, 9, 1, 4, 6, 10, 8, 2, 3]\n",
      "\n",
      "2\n"
     ]
    }
   ],
   "source": [
    "import random\n",
    "\n",
    "while(1):\n",
    "\tn=int(input(\"인형이 들어갈 박스의 크기 n을 입력하세요(n*n).\"))\n",
    "\tif(n<5 or n>30):\n",
    "\t\tcontinue\n",
    "\telse:\n",
    "\t\tbreak\n",
    "\n",
    "board=[]\t\t\n",
    "for i in range(n):\n",
    "\ttmp_list=[]\n",
    "\tfor j in range(n):\n",
    "\t\ttmp_list.append(random.randint(0,100))\n",
    "\tboard.append(tmp_list)\t\n",
    "board_transform=[list(x) for x in zip(*board)]\n",
    "\n",
    "for i in range(5):\n",
    "\twhile(0 in board_transform[i]):\n",
    "\t\tboard_transform[i].remove(0)\n",
    "\n",
    "moves=[]\n",
    "for k in range(n*n):\n",
    "\tmoves.append(random.randint(1,n))\n",
    "\n",
    "print(board_transform)\n",
    "print() # 가독성을 위해 넣었습니다 ^^...\n",
    "print(moves)\n",
    "\n",
    "for i in range(5):\n",
    "\twhile(0 in board_transform[i]):\n",
    "\t\tboard_transform[i].remove(0)\n",
    "#print(board_transform)\n",
    "def solution(board, moves):\n",
    "\tbucket = []\n",
    "\tanswer = 0\n",
    "\tcount = 0\n",
    "\tmoves_cnt=len(moves)\n",
    "\tfor l in range(moves_cnt):\n",
    "\t\tif (not board[moves[l]-1]):\n",
    "\t\t\tcontinue\n",
    "\t\telse:\n",
    "\t\t\tif (board[moves[l]-1][0]!=0):\n",
    "\t\t\t\tbucket.append(board[moves[l]-1].pop(0))\n",
    "\t\t\t\tcount+=1\n",
    "\t\t\t\tif(count>=2):\n",
    "\t\t\t\t\tif (bucket[count-2]==bucket[count-1]):\n",
    "\t\t\t\t\t\tanswer+=2\n",
    "\t\t\t\t\t\tdel bucket[count-2]\n",
    "\t\t\t\t\t\tdel bucket[count-2]\n",
    "\t\t\t\t\t\tcount-=2\n",
    "\t\t\t\t\telse:\n",
    "\t\t\t\t\t\tcontinue\n",
    "\t\t\t\n",
    "\treturn answer\n",
    "print() # 가독성을 위해 넣었습니다 ^^...\n",
    "print(solution(board_transform, moves))"
   ]
  },
  {
   "cell_type": "markdown",
   "metadata": {},
   "source": [
    "## 3. 결론\n",
    "- 입출력 예시에서는 인형의 개수도 적고 board의 크기도 적어서인지 result의 게임이 비교적 원활하게(?) 되는 것 같은데 인형 종류를 100개로 하니 게임 진행이 조금 어려운 것 같다.."
   ]
  },
  {
   "cell_type": "code",
   "execution_count": null,
   "metadata": {},
   "outputs": [],
   "source": []
  }
 ],
 "metadata": {
  "kernelspec": {
   "display_name": "Python 3",
   "language": "python",
   "name": "python3"
  },
  "language_info": {
   "codemirror_mode": {
    "name": "ipython",
    "version": 3
   },
   "file_extension": ".py",
   "mimetype": "text/x-python",
   "name": "python",
   "nbconvert_exporter": "python",
   "pygments_lexer": "ipython3",
   "version": "3.7.6"
  }
 },
 "nbformat": 4,
 "nbformat_minor": 4
}
