{
 "cells": [
  {
   "cell_type": "code",
   "execution_count": 2,
   "metadata": {},
   "outputs": [
    {
     "name": "stdout",
     "output_type": "stream",
     "text": [
      "시작숫자: 5\n",
      "끝 숫자: 22\n"
     ]
    }
   ],
   "source": [
    "s = int(input(\"시작숫자: \"))\n",
    "e = int(input(\"끝 숫자: \"))"
   ]
  },
  {
   "cell_type": "code",
   "execution_count": 3,
   "metadata": {},
   "outputs": [],
   "source": [
    "def decimal(n):\n",
    "    if n<2:\n",
    "        return False\n",
    "    else:\n",
    "        for i in range(2, n):\n",
    "            if(n%i==0):\n",
    "                return False\n",
    "            \n",
    "        return True"
   ]
  },
  {
   "cell_type": "code",
   "execution_count": 4,
   "metadata": {},
   "outputs": [
    {
     "data": {
      "text/plain": [
       "[5, 7, 11]"
      ]
     },
     "execution_count": 4,
     "metadata": {},
     "output_type": "execute_result"
    }
   ],
   "source": [
    "a1=[]\n",
    "\n",
    "for i in range(s, e+1):\n",
    "    if(decimal(i)):\n",
    "        a1.append(i)\n",
    "        \n",
    "a1_str = [str(x) for x in a1]\n",
    "\n",
    "a1_str_len = [len(a1_str[i]) for i in range(len(a1_str))]\n",
    "\n",
    "final_a1=[]\n",
    "#print(a1)\n",
    "#print(a1_str)\n",
    "#print(a1_str_len)\n",
    "for j in range(len(a1)):\n",
    "    if(a1_str_len[j]==1):\n",
    "        final_a1.append(a1[j])\n",
    "    else:\n",
    "        if(a1_str_len[j]%2==0 and a1_str[j][:a1_str_len[j]-1] == a1_str[j][a1_str_len[j]-1:]):\n",
    "            final_a1.append(a1[j])\n",
    "        if(a1_str_len[j]%2==1 and a1_str[j][:int(a1_str_len[j]/2)] == a1_str[j][int(a1_str_len[j]/2)+1:][::-1]):\n",
    "            final_a1.append(a1[j])\n",
    "                   \n",
    "final_a1"
   ]
  },
  {
   "cell_type": "code",
   "execution_count": null,
   "metadata": {},
   "outputs": [],
   "source": []
  }
 ],
 "metadata": {
  "kernelspec": {
   "display_name": "Python 3",
   "language": "python",
   "name": "python3"
  },
  "language_info": {
   "codemirror_mode": {
    "name": "ipython",
    "version": 3
   },
   "file_extension": ".py",
   "mimetype": "text/x-python",
   "name": "python",
   "nbconvert_exporter": "python",
   "pygments_lexer": "ipython3",
   "version": "3.7.6"
  }
 },
 "nbformat": 4,
 "nbformat_minor": 4
}
